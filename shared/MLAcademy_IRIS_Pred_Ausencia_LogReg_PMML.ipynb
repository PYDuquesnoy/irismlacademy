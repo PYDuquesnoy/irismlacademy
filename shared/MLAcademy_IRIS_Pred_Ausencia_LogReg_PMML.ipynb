{
 "cells": [
  {
   "cell_type": "markdown",
   "metadata": {},
   "source": [
    "<H1>Predicción de Ausencia de Paciente a su Cita Medica </H1>\n",
    "\n",
    "<H2>Ejemplo de predicción con Logistic Regression y exportación a PMML</H2>\n",
    "\n",
    "El ejemplo esta basado en 100 000 Citas medicas de una región (Vitória, Espírito Santo) de Brazil.\n",
    "En base a caracteristicas demograficas, sociales y de enfermedades cronicas del paciente, se intenta determinar su presencia/ausencia en la cita programada.\n",
    "\n",
    "\n",
    "Este ejemplo simple sirve para mostrar los aspectos siguientes\n",
    "<ul>\n",
    "    <li><em>Conexión desde Spark a la plataforma InterSystems IRIS</em<</li>\n",
    "    <li><em>Acceso a un modelo de Datos Preparado para ML (Abstract Base Table)</em></li>\n",
    "    <li><em>Entrenamiento de un algorithmo simple</em></li>\n",
    "    <li><em>Exportación a PMML para la Operacionalización en InterSystems IRIS</em></li>\n",
    " </ul>\n",
    "\n",
    "\n",
    "  Para mas claridad, este ejemplo ha sido reducido al maximo. No pretende enseñar mejores practicas de Python, ML, o estadisticas... Se pueden encontrar mas ejemplos y detalles de investigación sobre este mismo dataset en varios sitios, como por ejemplo:\n",
    "  <ul>\n",
    "    <li>[github](https://github.com/dovidburns/Doctor_Appointment_No_Shows)</li>\n",
    "    <li>[kaggle](https://www.kaggle.com/somrikbanerjee/predicting-show-up-no-show)</li>\n",
    "    <li>[Data Analytics and Modeling for Appointment No-show in Community Health Centers](https://www.ncbi.nlm.nih.gov/pmc/articles/PMC6243417/)</li>\n",
    "    <li>[Designing risk prediction models for ambulatory no-shows across different specialties and clinics](https://academic.oup.com/jamia/article/25/8/924/4849782)</li>\n",
    " </ul>"
   ]
  },
  {
   "cell_type": "markdown",
   "metadata": {},
   "source": [
    "<H2>Carga de Librerias Python</H2>"
   ]
  },
  {
   "cell_type": "code",
   "execution_count": 20,
   "metadata": {},
   "outputs": [],
   "source": [
    "#Carga inicial de librerias imprescindibles\n",
    "\n",
    "import pandas as pd\n",
    "import numpy as np\n",
    "import matplotlib.pyplot as plt\n",
    "\n",
    "#import seaborn as sns\n",
    "#sns.set(style=\"whitegrid\", color_codes=True)\n",
    "%matplotlib inline\n",
    "\n",
    "#ML imports\n",
    "from sklearn.model_selection import train_test_split\n",
    "from sklearn.linear_model import LogisticRegressionCV\n",
    "\n",
    "#Pipeline needed for PMML Export\n",
    "from sklearn.pipeline import Pipeline\n",
    "from sklearn2pmml import PMMLPipeline\n",
    "from sklearn2pmml import make_pmml_pipeline\n",
    "from sklearn2pmml import sklearn2pmml\n",
    "\n",
    "\n",
    "from sklearn import metrics\n",
    "from sklearn.metrics import roc_curve\n",
    "#from sklearn.model_selection import KFold\n",
    "from sklearn.model_selection import cross_val_score\n",
    "from sklearn.model_selection import cross_val_predict\n",
    "from sklearn.metrics import recall_score\n",
    "from sklearn.metrics import accuracy_score\n"
   ]
  },
  {
   "cell_type": "code",
   "execution_count": 2,
   "metadata": {},
   "outputs": [
    {
     "name": "stdout",
     "output_type": "stream",
     "text": [
      "3.6.8 |Anaconda, Inc.| (default, Feb 21 2019, 18:30:04) [MSC v.1916 64 bit (AMD64)]\n"
     ]
    },
    {
     "data": {
      "text/html": [
       "\n",
       "        <div>\n",
       "            <p><b>SparkContext</b></p>\n",
       "\n",
       "            <p><a href=\"http://DESKTOP-UQJJORS:4040\">Spark UI</a></p>\n",
       "\n",
       "            <dl>\n",
       "              <dt>Version</dt>\n",
       "                <dd><code>v2.4.0</code></dd>\n",
       "              <dt>Master</dt>\n",
       "                <dd><code>local[*]</code></dd>\n",
       "              <dt>AppName</dt>\n",
       "                <dd><code>PySparkShell</code></dd>\n",
       "            </dl>\n",
       "        </div>\n",
       "        "
      ],
      "text/plain": [
       "<SparkContext master=local[*] appName=PySparkShell>"
      ]
     },
     "execution_count": 2,
     "metadata": {},
     "output_type": "execute_result"
    }
   ],
   "source": [
    "#Verificación que pydpark este funcionando, para poder acceder a los datos en IRIS\n",
    "import sys\n",
    "print (sys.version)\n",
    "sc"
   ]
  },
  {
   "cell_type": "markdown",
   "metadata": {},
   "source": [
    "   ## Carga de los Datos Preparados usando el Intersystems IRIS Spark Connector\n",
    "   \n",
    "   Se accede a una projección de los datos (Abstract Base Table), con datos preparados para ML y columnas de categoria ya pre-expandidas en \"One Hot Encoding\" (Gender_F, Gener_M).\n",
    "   Se ha reducido a proposito el numero de columnas proyectados aquí:\n",
    "   <ul>\n",
    "    <li>PublishedABT.MLSimpleAppointmentGetfeatures():  11 Columnas </li>\n",
    "    <li>PublishedABT.MLAppointmentGetfeatures():       110 columnas </li>\n",
    "   </ul>"
   ]
  },
  {
   "cell_type": "code",
   "execution_count": 3,
   "metadata": {},
   "outputs": [],
   "source": [
    "#Carga del Modelo 'Abstract Base Table en un Spark DataFrame\n",
    "sp_df=spark.read.format(\"com.intersystems.spark\").\\\n",
    "option(\"url\", \"IRIS://127.0.0.1:51774/MLACADEMY\").option(\"user\", \"_SYSTEM\").\\\n",
    "option(\"password\", \"SYS\").\\\n",
    "option(\"query\", \"PublishedABT.MLSimpleAppointmentsGetfeatures()\").load() "
   ]
  },
  {
   "cell_type": "code",
   "execution_count": 4,
   "metadata": {},
   "outputs": [
    {
     "name": "stdout",
     "output_type": "stream",
     "text": [
      "(110527, 11)\n"
     ]
    }
   ],
   "source": [
    "#Mostrar Informacion de filas & columnas\n",
    "print((sp_df.count(), len(sp_df.columns)))"
   ]
  },
  {
   "cell_type": "code",
   "execution_count": 5,
   "metadata": {},
   "outputs": [
    {
     "name": "stdout",
     "output_type": "stream",
     "text": [
      "root\n",
      " |-- Age: integer (nullable = true)\n",
      " |-- Alcoholism: boolean (nullable = true)\n",
      " |-- Delay: integer (nullable = true)\n",
      " |-- Diabetes: boolean (nullable = true)\n",
      " |-- Gender_F: integer (nullable = true)\n",
      " |-- Gender_M: integer (nullable = true)\n",
      " |-- Handicap: integer (nullable = true)\n",
      " |-- Hypertension: boolean (nullable = true)\n",
      " |-- Scholarship: boolean (nullable = true)\n",
      " |-- noShow: boolean (nullable = true)\n",
      " |-- smsReceived: boolean (nullable = true)\n",
      "\n"
     ]
    }
   ],
   "source": [
    "#Mostrar las columnas de caracteristicas y la columna de resultado (Classification == Presente/Ausente) \n",
    "#sp_df.columns\n",
    "#sp_df.show(5)\n",
    "sp_df.printSchema()"
   ]
  },
  {
   "cell_type": "markdown",
   "metadata": {},
   "source": [
    "## Copia a un Pandas DataFrame"
   ]
  },
  {
   "cell_type": "code",
   "execution_count": 6,
   "metadata": {},
   "outputs": [],
   "source": [
    "# Enable Arrow-based columnar data transfers\n",
    "spark.conf.set(\"spark.sql.execution.arrow.enabled\", \"true\")\n",
    "# Convert the Spark DataFrame back to a Pandas DataFrame using Arrow\n",
    "# ((Nota: requiere fechas como TimeStamp (no funciona bien con Dates) ))\n",
    "data = sp_df.select(\"*\").toPandas()\n",
    "# data.drop(['ID'],axis=1,inplace=True)  #Eliminamos las columnas de ID, no sirven para determinar el resultado"
   ]
  },
  {
   "cell_type": "code",
   "execution_count": 7,
   "metadata": {},
   "outputs": [
    {
     "data": {
      "text/html": [
       "<div>\n",
       "<style scoped>\n",
       "    .dataframe tbody tr th:only-of-type {\n",
       "        vertical-align: middle;\n",
       "    }\n",
       "\n",
       "    .dataframe tbody tr th {\n",
       "        vertical-align: top;\n",
       "    }\n",
       "\n",
       "    .dataframe thead th {\n",
       "        text-align: right;\n",
       "    }\n",
       "</style>\n",
       "<table border=\"1\" class=\"dataframe\">\n",
       "  <thead>\n",
       "    <tr style=\"text-align: right;\">\n",
       "      <th></th>\n",
       "      <th>Age</th>\n",
       "      <th>Alcoholism</th>\n",
       "      <th>Delay</th>\n",
       "      <th>Diabetes</th>\n",
       "      <th>Gender_F</th>\n",
       "      <th>Gender_M</th>\n",
       "      <th>Handicap</th>\n",
       "      <th>Hypertension</th>\n",
       "      <th>Scholarship</th>\n",
       "      <th>noShow</th>\n",
       "      <th>smsReceived</th>\n",
       "    </tr>\n",
       "  </thead>\n",
       "  <tbody>\n",
       "    <tr>\n",
       "      <th>0</th>\n",
       "      <td>13</td>\n",
       "      <td>False</td>\n",
       "      <td>7</td>\n",
       "      <td>False</td>\n",
       "      <td>0</td>\n",
       "      <td>1</td>\n",
       "      <td>0</td>\n",
       "      <td>False</td>\n",
       "      <td>False</td>\n",
       "      <td>False</td>\n",
       "      <td>False</td>\n",
       "    </tr>\n",
       "    <tr>\n",
       "      <th>1</th>\n",
       "      <td>62</td>\n",
       "      <td>False</td>\n",
       "      <td>0</td>\n",
       "      <td>False</td>\n",
       "      <td>1</td>\n",
       "      <td>0</td>\n",
       "      <td>0</td>\n",
       "      <td>True</td>\n",
       "      <td>False</td>\n",
       "      <td>False</td>\n",
       "      <td>False</td>\n",
       "    </tr>\n",
       "    <tr>\n",
       "      <th>2</th>\n",
       "      <td>48</td>\n",
       "      <td>False</td>\n",
       "      <td>11</td>\n",
       "      <td>False</td>\n",
       "      <td>1</td>\n",
       "      <td>0</td>\n",
       "      <td>0</td>\n",
       "      <td>False</td>\n",
       "      <td>False</td>\n",
       "      <td>True</td>\n",
       "      <td>False</td>\n",
       "    </tr>\n",
       "    <tr>\n",
       "      <th>3</th>\n",
       "      <td>56</td>\n",
       "      <td>False</td>\n",
       "      <td>0</td>\n",
       "      <td>False</td>\n",
       "      <td>0</td>\n",
       "      <td>1</td>\n",
       "      <td>0</td>\n",
       "      <td>False</td>\n",
       "      <td>False</td>\n",
       "      <td>False</td>\n",
       "      <td>False</td>\n",
       "    </tr>\n",
       "    <tr>\n",
       "      <th>4</th>\n",
       "      <td>43</td>\n",
       "      <td>False</td>\n",
       "      <td>10</td>\n",
       "      <td>False</td>\n",
       "      <td>1</td>\n",
       "      <td>0</td>\n",
       "      <td>0</td>\n",
       "      <td>False</td>\n",
       "      <td>False</td>\n",
       "      <td>False</td>\n",
       "      <td>False</td>\n",
       "    </tr>\n",
       "  </tbody>\n",
       "</table>\n",
       "</div>"
      ],
      "text/plain": [
       "   Age  Alcoholism  Delay  Diabetes  Gender_F  Gender_M  Handicap  \\\n",
       "0   13       False      7     False         0         1         0   \n",
       "1   62       False      0     False         1         0         0   \n",
       "2   48       False     11     False         1         0         0   \n",
       "3   56       False      0     False         0         1         0   \n",
       "4   43       False     10     False         1         0         0   \n",
       "\n",
       "   Hypertension  Scholarship  noShow  smsReceived  \n",
       "0         False        False   False        False  \n",
       "1          True        False   False        False  \n",
       "2         False        False    True        False  \n",
       "3         False        False   False        False  \n",
       "4         False        False   False        False  "
      ]
     },
     "execution_count": 7,
     "metadata": {},
     "output_type": "execute_result"
    }
   ],
   "source": [
    "#Las primeras filas de datos\n",
    "data.head()"
   ]
  },
  {
   "cell_type": "code",
   "execution_count": 8,
   "metadata": {},
   "outputs": [
    {
     "name": "stdout",
     "output_type": "stream",
     "text": [
      "<class 'pandas.core.frame.DataFrame'>\n",
      "RangeIndex: 110527 entries, 0 to 110526\n",
      "Data columns (total 11 columns):\n",
      "Age             110527 non-null int32\n",
      "Alcoholism      110527 non-null bool\n",
      "Delay           110527 non-null int32\n",
      "Diabetes        110527 non-null bool\n",
      "Gender_F        110527 non-null int32\n",
      "Gender_M        110527 non-null int32\n",
      "Handicap        110527 non-null int32\n",
      "Hypertension    110527 non-null bool\n",
      "Scholarship     110527 non-null bool\n",
      "noShow          110527 non-null bool\n",
      "smsReceived     110527 non-null bool\n",
      "dtypes: bool(6), int32(5)\n",
      "memory usage: 2.7 MB\n"
     ]
    }
   ],
   "source": [
    "#Y un recuento de los Nulls\n",
    "data.info()"
   ]
  },
  {
   "cell_type": "markdown",
   "metadata": {},
   "source": [
    "<H1>Algoritmo ML de Logistic Regression</H1> \n",
    "\n",
    "es un algoritmo relativamente simple, y los resultados obtenidos sobre este conjunto de datos parcial (hemos limitado el numero de columnas para hacer algo mas simple en este tutorial) son \"pasables\". Aún así, nos permite ver como se genera el PMML y se pone en producción."
   ]
  },
  {
   "cell_type": "code",
   "execution_count": 9,
   "metadata": {},
   "outputs": [],
   "source": [
    "#Extracción de las Caracteristicas (en X) y del Resultado (columna \"noShow\" en y) como arrays numpy...\n",
    "X = data.loc[:, ~data.columns.isin(['noShow'])].values\n",
    "y = data.loc[:, 'noShow'].values"
   ]
  },
  {
   "cell_type": "code",
   "execution_count": 10,
   "metadata": {},
   "outputs": [],
   "source": [
    "#Se separan los datos (110 000 filas) en 2 conjuntos: Train para entrenar,\n",
    "# y test para validar los resultados del algoritmo\n",
    "# 0.2 => 20% para test\n",
    "X_train, X_test, y_train, y_test = train_test_split(X, y, test_size = 0.2, random_state=42) "
   ]
  },
  {
   "cell_type": "code",
   "execution_count": 11,
   "metadata": {},
   "outputs": [
    {
     "data": {
      "text/plain": [
       "LogisticRegressionCV(Cs=10, class_weight=None, cv=10, dual=False,\n",
       "           fit_intercept=True, intercept_scaling=1.0, max_iter=200,\n",
       "           multi_class='warn', n_jobs=-1, penalty='l2', random_state=None,\n",
       "           refit=True, scoring='f1', solver='lbfgs', tol=0.0001, verbose=0)"
      ]
     },
     "execution_count": 11,
     "metadata": {},
     "output_type": "execute_result"
    }
   ],
   "source": [
    "#Entrenamiento del Algoritmo Regresión Logistica, con \"cross validation\"\n",
    "modelLR = LogisticRegressionCV(n_jobs=-1, cv=10, max_iter=200, scoring = 'f1')\n",
    "modelLR.fit(X_train, y_train)"
   ]
  },
  {
   "cell_type": "code",
   "execution_count": 12,
   "metadata": {},
   "outputs": [],
   "source": [
    "#Evaluación del modelo entrenado, sobre los datos de test\n",
    "y_pred = modelLR.predict(X_test)"
   ]
  },
  {
   "cell_type": "code",
   "execution_count": 13,
   "metadata": {},
   "outputs": [
    {
     "name": "stdout",
     "output_type": "stream",
     "text": [
      "0.036755386565272496\n"
     ]
    }
   ],
   "source": [
    "#Visualización de las metricas de Resultados\n",
    "# Se han predecido casi ninguna ausencia con estos parametros del algorithmo (0.03)\n",
    "print(metrics.f1_score(y_test, y_pred))"
   ]
  },
  {
   "cell_type": "code",
   "execution_count": 14,
   "metadata": {},
   "outputs": [
    {
     "name": "stdout",
     "output_type": "stream",
     "text": [
      "0.19005989962765096\n"
     ]
    }
   ],
   "source": [
    "# si bajamos el umbral de decision Show/noShow a una probabilidad de 0.32, obtenemos una mejora en el score f1...\n",
    "y_pred_prob = modelLR.predict_proba(X_test)[:,1] >.32\n",
    "print(metrics.f1_score(y_test, y_pred_prob))"
   ]
  },
  {
   "cell_type": "code",
   "execution_count": 15,
   "metadata": {},
   "outputs": [
    {
     "data": {
      "text/plain": [
       "0.7736813534786936"
      ]
     },
     "execution_count": 15,
     "metadata": {},
     "output_type": "execute_result"
    }
   ],
   "source": [
    "# La accuracy es mejorable....\n",
    "# https://developers.google.com/machine-learning/crash-course/classification/accuracy\n",
    "accuracy_score(y_test,y_pred_prob)"
   ]
  },
  {
   "cell_type": "code",
   "execution_count": 16,
   "metadata": {},
   "outputs": [
    {
     "data": {
      "text/plain": [
       "0.6712802513064218"
      ]
     },
     "execution_count": 16,
     "metadata": {},
     "output_type": "execute_result"
    }
   ],
   "source": [
    "# we have a decent somewhat poor AUC of 0.67\n",
    "metrics.roc_auc_score(y_test,modelLR.predict_proba(X_test)[:,1])"
   ]
  },
  {
   "cell_type": "code",
   "execution_count": 17,
   "metadata": {},
   "outputs": [
    {
     "data": {
      "image/png": "[encoded data removed]",
      "text/plain": [
       "<Figure size 432x288 with 1 Axes>"
      ]
     },
     "metadata": {
      "needs_background": "light"
     },
     "output_type": "display_data"
    }
   ],
   "source": [
    "y_pred_prob = modelLR.predict_proba(X_test)[:,1]\n",
    "\n",
    "# Generate ROC curve values: fpr, tpr, thresholds\n",
    "fpr, tpr, thresholds = roc_curve(y_test, y_pred_prob)\n",
    "\n",
    "# Plot ROC curve\n",
    "plt.plot([0, 1], [0, 1], 'k--')\n",
    "plt.plot(fpr, tpr)\n",
    "plt.xlabel('False Positive Rate')\n",
    "plt.ylabel('True Positive Rate')\n",
    "plt.title('ROC Curve- Logistic Regression')\n",
    "plt.show()"
   ]
  },
  {
   "cell_type": "markdown",
   "metadata": {},
   "source": [
    "<H1>Exportación a PMML</H1>\n",
    "\n",
    "la exportación a PMML se puede hacer con sklearn2pmml y usa jpmml por debajo.\n",
    "Es necesario definir un PMMLPipeline, al cual se podrían añadir etapas de pre-procesamiento que nio necesitamos aqui.\n",
    "[Introducciçon sklearn2pmml](https://www.slideshare.net/VilluRuusmann/converting-scikitlearn-to-pmml)"
   ]
  },
  {
   "cell_type": "code",
   "execution_count": 18,
   "metadata": {},
   "outputs": [],
   "source": [
    "#Extraimos los nombre de columnas de caracteristicas para añadirlas a la definición PMML\n",
    "features=list(data.columns)\n",
    "features.remove('noShow')\n",
    "#print(len(features))"
   ]
  },
  {
   "cell_type": "code",
   "execution_count": 21,
   "metadata": {},
   "outputs": [],
   "source": [
    "#Se crea el Pipelinne\n",
    "myPipeline=Pipeline([('LogisticRegression',modelLR)])\n",
    "myPMMLPipeline=make_pmml_pipeline(myPipeline,active_fields=features,target_fields=[\"noShow\"])"
   ]
  },
  {
   "cell_type": "code",
   "execution_count": 23,
   "metadata": {},
   "outputs": [],
   "source": [
    "sklearn2pmml(myPMMLPipeline, pmml=\"c:/users/pyd/MLAcademy.SimpleLR.pmml\")"
   ]
  },
  {
   "cell_type": "markdown",
   "metadata": {},
   "source": [
    "<H1> Pruebas de Validación </H1>"
   ]
  },
  {
   "cell_type": "code",
   "execution_count": 27,
   "metadata": {},
   "outputs": [
    {
     "name": "stdout",
     "output_type": "stream",
     "text": [
      "[[0.86937399 0.13062601]]\n"
     ]
    }
   ],
   "source": [
    "#Predicción sobre la primera fila\n",
    "print(modelLR.predict_proba(X[1].reshape(1,-1)))"
   ]
  },
  {
   "cell_type": "code",
   "execution_count": 31,
   "metadata": {},
   "outputs": [
    {
     "name": "stdout",
     "output_type": "stream",
     "text": [
      "[[0.056492 0.943508]]\n"
     ]
    }
   ],
   "source": [
    "#Predicción sobre los mismos datos que hemos enviado via REST\n",
    "Z=np.array([53,0,181,0,0,1,0,1,1,1]) #\"Age\":53 \"Delay\":181,\"Diabetes\":0,\"Gender_F\":0,\"Gender_M\":1,   \"Handicap\":0,    \"Hypertension\":1,\"Scholarship\":1,\"smsReceived\":1\n",
    "print(modelLR.predict_proba(Z.reshape(1,-1)))"
   ]
  },
  {
   "cell_type": "code",
   "execution_count": null,
   "metadata": {},
   "outputs": [],
   "source": []
  }
 ],
 "metadata": {
  "kernelspec": {
   "display_name": "Python 3",
   "language": "python",
   "name": "python3"
  },
  "language_info": {
   "codemirror_mode": {
    "name": "ipython",
    "version": 3
   },
   "file_extension": ".py",
   "mimetype": "text/x-python",
   "name": "python",
   "nbconvert_exporter": "python",
   "pygments_lexer": "ipython3",
   "version": "3.6.8"
  }
 },
 "nbformat": 4,
 "nbformat_minor": 4
}
