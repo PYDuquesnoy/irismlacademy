{
 "cells": [
  {
   "cell_type": "markdown",
   "metadata": {},
   "source": [
    "<H1>Predicción de Ausencia de Paciente a su Cita Medica </H1>\n",
    "\n",
    "<H2>Comparación de distintas caracteristicas y Algoritmos (XGBoost)</H2>\n",
    "\n",
    "El ejemplo esta basado en 100 000 Citas medicas de una región (Vitória, Espírito Santo) de Brazil.\n",
    "En base a caracteristicas demograficas, sociales y de enfermedades cronicas del paciente, se intenta determinar su presencia/ausencia en la cita programada.\n",
    "\n",
    "En este ejemplo se comparan lo resultados obtenidos previamente con otro algoritmo:\n",
    "<ul>\n",
    "    <li><em>ABT con 11 caracteristicas y Regression Logistica</em></li>\n",
    "    <li><em>ABT con 110 caracteristicas y Regression Logistica</em></li>\n",
    "    <li><em>ABT con 11 caracteristicas y XGBoost</em></li>\n",
    "</ul>\n"
   ]
  },
  {
   "cell_type": "markdown",
   "metadata": {},
   "source": [
    "<H2>Carga de Librerias Python</H2>"
   ]
  },
  {
   "cell_type": "code",
   "execution_count": 1,
   "metadata": {},
   "outputs": [
    {
     "name": "stderr",
     "output_type": "stream",
     "text": [
      "/usr/local/lib/python3.6/dist-packages/sklearn/utils/deprecation.py:144: FutureWarning: The sklearn.feature_selection.base module is  deprecated in version 0.22 and will be removed in version 0.24. The corresponding classes / functions should instead be imported from sklearn.feature_selection. Anything that cannot be imported from sklearn.feature_selection is now part of the private API.\n",
      "  warnings.warn(message, FutureWarning)\n"
     ]
    }
   ],
   "source": [
    "#Carga inicial de librerias imprescindibles\n",
    "\n",
    "import pandas as pd\n",
    "import numpy as np\n",
    "import matplotlib.pyplot as plt\n",
    "\n",
    "#import seaborn as sns\n",
    "#sns.set(style=\"whitegrid\", color_codes=True)\n",
    "%matplotlib inline\n",
    "\n",
    "#ML imports\n",
    "from sklearn.model_selection import train_test_split\n",
    "from sklearn.linear_model import LogisticRegressionCV\n",
    "\n",
    "#Pipeline needed for PMML Export\n",
    "from sklearn.pipeline import Pipeline\n",
    "from sklearn2pmml import PMMLPipeline\n",
    "from sklearn2pmml import make_pmml_pipeline\n",
    "from sklearn2pmml import sklearn2pmml\n",
    "\n",
    "\n",
    "from sklearn import metrics\n",
    "from sklearn.metrics import roc_curve\n",
    "#from sklearn.model_selection import KFold\n",
    "from sklearn.model_selection import cross_val_score\n",
    "from sklearn.model_selection import cross_val_predict\n",
    "from sklearn.metrics import recall_score\n",
    "from sklearn.metrics import accuracy_score\n",
    "\n",
    "from xgboost import XGBClassifier"
   ]
  },
  {
   "cell_type": "markdown",
   "metadata": {},
   "source": [
    "<H2>Carga de Datos con Spark<H2>"
   ]
  },
  {
   "cell_type": "code",
   "execution_count": 2,
   "metadata": {},
   "outputs": [],
   "source": [
    "#\"ALL\", \"DEBUG\", \"ERROR\", \"FATAL\", \"INFO\", \"OFF\", \"TRACE\", \"WARN\"\n",
    "sc.setLogLevel(\"INFO\")"
   ]
  },
  {
   "cell_type": "code",
   "execution_count": 3,
   "metadata": {},
   "outputs": [],
   "source": [
    "#Carga del Modelo 'Abstract Base Table en un Spark DataFrame\n",
    "sp_dfSimple=spark.read.format(\"com.intersystems.spark\").\\\n",
    "option(\"url\", \"IRIS://iris4ml:51773/MLACADEMY\").option(\"user\", \"SuperUser\").\\\n",
    "option(\"password\", \"sys\").\\\n",
    "option(\"query\", \"PublishedABT.MLSimpleAppointmentsGetfeatures()\").load().limit(10000) "
   ]
  },
  {
   "cell_type": "code",
   "execution_count": 4,
   "metadata": {},
   "outputs": [],
   "source": [
    "#Carga del Modelo 'Abstract Base Table en un Spark DataFrame\n",
    "sp_dfLarge=spark.read.format(\"com.intersystems.spark\").\\\n",
    "option(\"url\", \"IRIS://iris4ml:51773/MLACADEMY\").option(\"user\", \"SuperUser\").\\\n",
    "option(\"password\", \"sys\").\\\n",
    "option(\"query\", \"PublishedABT.MLAppointmentsGetfeatures()\").load().limit(10000) "
   ]
  },
  {
   "cell_type": "code",
   "execution_count": 5,
   "metadata": {},
   "outputs": [
    {
     "name": "stdout",
     "output_type": "stream",
     "text": [
      "root\n",
      " |-- Age: integer (nullable = true)\n",
      " |-- AgeGroup_Adult: integer (nullable = true)\n",
      " |-- AgeGroup_Baby: integer (nullable = true)\n",
      " |-- AgeGroup_Child: integer (nullable = true)\n",
      " |-- AgeGroup_MiddleAged: integer (nullable = true)\n",
      " |-- AgeGroup_Senior: integer (nullable = true)\n",
      " |-- AgeGroup_TeenYoungAdult: integer (nullable = true)\n",
      " |-- Alcoholism: boolean (nullable = true)\n",
      " |-- AppointmentWeekday_Friday: integer (nullable = true)\n",
      " |-- AppointmentWeekday_Monday: integer (nullable = true)\n",
      " |-- AppointmentWeekday_Saturday: integer (nullable = true)\n",
      " |-- AppointmentWeekday_Thursday: integer (nullable = true)\n",
      " |-- AppointmentWeekday_Tuesday: integer (nullable = true)\n",
      " |-- AppointmentWeekday_Wednesday: integer (nullable = true)\n",
      " |-- Delay: integer (nullable = true)\n",
      " |-- DelayGroup_LessThanTen: integer (nullable = true)\n",
      " |-- DelayGroup_LessthanFour: integer (nullable = true)\n",
      " |-- DelayGroup_NA: integer (nullable = true)\n",
      " |-- DelayGroup_None: integer (nullable = true)\n",
      " |-- DelayGroup_One: integer (nullable = true)\n",
      " |-- DelayGroup_TenorMore: integer (nullable = true)\n",
      " |-- Diabetes: boolean (nullable = true)\n",
      " |-- Gender_F: integer (nullable = true)\n",
      " |-- Gender_M: integer (nullable = true)\n",
      " |-- Handicap: integer (nullable = true)\n",
      " |-- Hypertension: boolean (nullable = true)\n",
      " |-- Neighborhood_AEROPORTO: integer (nullable = true)\n",
      " |-- Neighborhood_ANDORINHAS: integer (nullable = true)\n",
      " |-- Neighborhood_ANTÔNIO_HONÓRIO: integer (nullable = true)\n",
      " |-- Neighborhood_ARIOVALDO_FAVALESSA: integer (nullable = true)\n",
      " |-- Neighborhood_BARRO_VERMELHO: integer (nullable = true)\n",
      " |-- Neighborhood_BELA_VISTA: integer (nullable = true)\n",
      " |-- Neighborhood_BENTO_FERREIRA: integer (nullable = true)\n",
      " |-- Neighborhood_BOA_VISTA: integer (nullable = true)\n",
      " |-- Neighborhood_BONFIM: integer (nullable = true)\n",
      " |-- Neighborhood_CARATOÍRA: integer (nullable = true)\n",
      " |-- Neighborhood_CENTRO: integer (nullable = true)\n",
      " |-- Neighborhood_COMDUSA: integer (nullable = true)\n",
      " |-- Neighborhood_CONQUISTA: integer (nullable = true)\n",
      " |-- Neighborhood_CONSOLAÇÃO: integer (nullable = true)\n",
      " |-- Neighborhood_CRUZAMENTO: integer (nullable = true)\n",
      " |-- Neighborhood_DA_PENHA: integer (nullable = true)\n",
      " |-- Neighborhood_DE_LOURDES: integer (nullable = true)\n",
      " |-- Neighborhood_DO_CABRAL: integer (nullable = true)\n",
      " |-- Neighborhood_DO_MOSCOSO: integer (nullable = true)\n",
      " |-- Neighborhood_DO_QUADRO: integer (nullable = true)\n",
      " |-- Neighborhood_ENSEADA_DO_SUÁ: integer (nullable = true)\n",
      " |-- Neighborhood_ESTRELINHA: integer (nullable = true)\n",
      " |-- Neighborhood_FONTE_GRANDE: integer (nullable = true)\n",
      " |-- Neighborhood_FORTE_SÃO_JOÃO: integer (nullable = true)\n",
      " |-- Neighborhood_FRADINHOS: integer (nullable = true)\n",
      " |-- Neighborhood_GOIABEIRAS: integer (nullable = true)\n",
      " |-- Neighborhood_GRANDE_VITÓRIA: integer (nullable = true)\n",
      " |-- Neighborhood_GURIGICA: integer (nullable = true)\n",
      " |-- Neighborhood_HORTO: integer (nullable = true)\n",
      " |-- Neighborhood_ILHAS_OCEÂNICAS_DE_TRINDADE: integer (nullable = true)\n",
      " |-- Neighborhood_ILHA_DAS_CAIEIRAS: integer (nullable = true)\n",
      " |-- Neighborhood_ILHA_DE_SANTA_MARIA: integer (nullable = true)\n",
      " |-- Neighborhood_ILHA_DO_BOI: integer (nullable = true)\n",
      " |-- Neighborhood_ILHA_DO_FRADE: integer (nullable = true)\n",
      " |-- Neighborhood_ILHA_DO_PRÍNCIPE: integer (nullable = true)\n",
      " |-- Neighborhood_INHANGUETÁ: integer (nullable = true)\n",
      " |-- Neighborhood_ITARARÉ: integer (nullable = true)\n",
      " |-- Neighborhood_JABOUR: integer (nullable = true)\n",
      " |-- Neighborhood_JARDIM_CAMBURI: integer (nullable = true)\n",
      " |-- Neighborhood_JARDIM_DA_PENHA: integer (nullable = true)\n",
      " |-- Neighborhood_JESUS_DE_NAZARETH: integer (nullable = true)\n",
      " |-- Neighborhood_JOANA_DARC: integer (nullable = true)\n",
      " |-- Neighborhood_JUCUTUQUARA: integer (nullable = true)\n",
      " |-- Neighborhood_MARIA_ORTIZ: integer (nullable = true)\n",
      " |-- Neighborhood_MARUÍPE: integer (nullable = true)\n",
      " |-- Neighborhood_MATA_DA_PRAIA: integer (nullable = true)\n",
      " |-- Neighborhood_MONTE_BELO: integer (nullable = true)\n",
      " |-- Neighborhood_MORADA_DE_CAMBURI: integer (nullable = true)\n",
      " |-- Neighborhood_MÁRIO_CYPRESTE: integer (nullable = true)\n",
      " |-- Neighborhood_NAZARETH: integer (nullable = true)\n",
      " |-- Neighborhood_NOVA_PALESTINA: integer (nullable = true)\n",
      " |-- Neighborhood_PARQUE_INDUSTRIAL: integer (nullable = true)\n",
      " |-- Neighborhood_PARQUE_MOSCOSO: integer (nullable = true)\n",
      " |-- Neighborhood_PIEDADE: integer (nullable = true)\n",
      " |-- Neighborhood_PONTAL_DE_CAMBURI: integer (nullable = true)\n",
      " |-- Neighborhood_PRAIA_DO_CANTO: integer (nullable = true)\n",
      " |-- Neighborhood_PRAIA_DO_SUÁ: integer (nullable = true)\n",
      " |-- Neighborhood_REDENÇÃO: integer (nullable = true)\n",
      " |-- Neighborhood_REPÚBLICA: integer (nullable = true)\n",
      " |-- Neighborhood_RESISTÊNCIA: integer (nullable = true)\n",
      " |-- Neighborhood_ROMÃO: integer (nullable = true)\n",
      " |-- Neighborhood_SANTA_CECÍLIA: integer (nullable = true)\n",
      " |-- Neighborhood_SANTA_CLARA: integer (nullable = true)\n",
      " |-- Neighborhood_SANTA_HELENA: integer (nullable = true)\n",
      " |-- Neighborhood_SANTA_LUÍZA: integer (nullable = true)\n",
      " |-- Neighborhood_SANTA_LÚCIA: integer (nullable = true)\n",
      " |-- Neighborhood_SANTA_MARTHA: integer (nullable = true)\n",
      " |-- Neighborhood_SANTA_TEREZA: integer (nullable = true)\n",
      " |-- Neighborhood_SANTOS_DUMONT: integer (nullable = true)\n",
      " |-- Neighborhood_SANTOS_REIS: integer (nullable = true)\n",
      " |-- Neighborhood_SANTO_ANDRÉ: integer (nullable = true)\n",
      " |-- Neighborhood_SANTO_ANTÔNIO: integer (nullable = true)\n",
      " |-- Neighborhood_SEGURANÇA_DO_LAR: integer (nullable = true)\n",
      " |-- Neighborhood_SOLON_BORGES: integer (nullable = true)\n",
      " |-- Neighborhood_SÃO_BENEDITO: integer (nullable = true)\n",
      " |-- Neighborhood_SÃO_CRISTÓVÃO: integer (nullable = true)\n",
      " |-- Neighborhood_SÃO_JOSÉ: integer (nullable = true)\n",
      " |-- Neighborhood_SÃO_PEDRO: integer (nullable = true)\n",
      " |-- Neighborhood_TABUAZEIRO: integer (nullable = true)\n",
      " |-- Neighborhood_UNIVERSITÁRIO: integer (nullable = true)\n",
      " |-- Neighborhood_VILA_RUBIM: integer (nullable = true)\n",
      " |-- Scholarship: boolean (nullable = true)\n",
      " |-- noShow: boolean (nullable = true)\n",
      " |-- smsReceived: boolean (nullable = true)\n",
      "\n"
     ]
    }
   ],
   "source": [
    "#Mostrar las columnas de caracteristicas y la columna de resultado (Classification == Presente/Ausente) \n",
    "#sp_dfSimple.printSchema()\n",
    "sp_dfLarge.printSchema()"
   ]
  },
  {
   "cell_type": "markdown",
   "metadata": {},
   "source": [
    "<H2>Copia a Pandas Dataframes</H2>"
   ]
  },
  {
   "cell_type": "code",
   "execution_count": null,
   "metadata": {},
   "outputs": [],
   "source": [
    "# Enable Arrow-based columnar data transfers\n",
    "spark.conf.set(\"spark.sql.execution.arrow.enabled\", \"true\")\n",
    "# Convert the Spark DataFrame back to a Pandas DataFrame using Arrow\n",
    "# ((Nota: requiere fechas como TimeStamp (no funciona bien con Dates) ))\n",
    "dataSimple = sp_dfSimple.select(\"*\").toPandas()\n",
    "# data.drop(['ID'],axis=1,inplace=True)  #Eliminamos las columnas de ID, no sirven para determinar el resultado"
   ]
  },
  {
   "cell_type": "code",
   "execution_count": null,
   "metadata": {},
   "outputs": [],
   "source": [
    "# Enable Arrow-based columnar data transfers\n",
    "spark.conf.set(\"spark.sql.execution.arrow.enabled\", \"true\")\n",
    "# Convert the Spark DataFrame back to a Pandas DataFrame using Arrow\n",
    "# ((Nota: requiere fechas como TimeStamp (no funciona bien con Dates) ))\n",
    "dataLarge = sp_dfLarge.select(\"*\").toPandas()\n",
    "# data.drop(['ID'],axis=1,inplace=True)  #Eliminamos las columnas de ID, no sirven para determinar el resultado"
   ]
  },
  {
   "cell_type": "code",
   "execution_count": null,
   "metadata": {},
   "outputs": [],
   "source": [
    "#Mostrar las primeras filas de resultantes del ABT PublishedABT.MLAppointmentsGetfeatures()\n",
    "dataLarge.head()"
   ]
  },
  {
   "cell_type": "markdown",
   "metadata": {},
   "source": [
    "<H2>Algorithmos</H2>"
   ]
  },
  {
   "cell_type": "code",
   "execution_count": null,
   "metadata": {},
   "outputs": [],
   "source": [
    "#Extraer nombre de caracterisicas para uso posterior (p.e Arbol de decision XGBoost )\n",
    "featuresSimple=list(dataSimple.columns)\n",
    "featuresSimple.remove('noShow')"
   ]
  },
  {
   "cell_type": "code",
   "execution_count": null,
   "metadata": {},
   "outputs": [],
   "source": [
    "#Extracción de las Caracteristicas (en X) y del Resultado (columna \"noShow\" en y) como arrays numpy...\n",
    "XSimple = dataSimple.loc[:, dataSimple.columns.isin(featuresSimple)].values\n",
    "ySimple = dataSimple.loc[:, 'noShow'].values"
   ]
  },
  {
   "cell_type": "code",
   "execution_count": null,
   "metadata": {},
   "outputs": [],
   "source": [
    "#Extracción de las Caracteristicas (en X) y del Resultado (columna \"noShow\" en y) como arrays numpy...\n",
    "XLarge = dataLarge.loc[:, ~dataLarge.columns.isin(['noShow'])].values\n",
    "yLarge = dataLarge.loc[:, 'noShow'].values"
   ]
  },
  {
   "cell_type": "code",
   "execution_count": null,
   "metadata": {},
   "outputs": [],
   "source": [
    "#Se separan los datos (110 000 filas) en 2 conjuntos: Train para entrenar,\n",
    "# y test para validar los resultados del algoritmo\n",
    "# 0.2 => 20% para test\n",
    "XSimple_train, XSimple_test, ySimple_train, ySimple_test = train_test_split(XSimple, ySimple, test_size = 0.2, random_state=42) "
   ]
  },
  {
   "cell_type": "code",
   "execution_count": null,
   "metadata": {},
   "outputs": [],
   "source": [
    "#Se separan los datos (110 000 filas) en 2 conjuntos: Train para entrenar,\n",
    "# y test para validar los resultados del algoritmo\n",
    "# 0.2 => 20% para test\n",
    "XLarge_train, XLarge_test, yLarge_train, yLarge_test = train_test_split(XLarge, yLarge, test_size = 0.2, random_state=42) "
   ]
  },
  {
   "cell_type": "markdown",
   "metadata": {},
   "source": [
    "<H3>ABT con 11 caracteristicas y Regression Logistica</H3>"
   ]
  },
  {
   "cell_type": "code",
   "execution_count": null,
   "metadata": {},
   "outputs": [],
   "source": [
    "#Entrenamiento del Algoritmo Regresión Logistica, con \"cross validation\"\n",
    "model1 = LogisticRegressionCV(n_jobs=-1, cv=10, max_iter=200, scoring = 'f1', multi_class='ovr')\n",
    "model1.fit(XSimple_train, ySimple_train)"
   ]
  },
  {
   "cell_type": "code",
   "execution_count": null,
   "metadata": {},
   "outputs": [],
   "source": [
    "# ROC AUC es pobre 0.65\n",
    "metrics.roc_auc_score(ySimple_test,model1.predict_proba(XSimple_test)[:,1])"
   ]
  },
  {
   "cell_type": "markdown",
   "metadata": {},
   "source": [
    "<H3>ABT con 110 caracteristicas y Regression Logistica</H3>"
   ]
  },
  {
   "cell_type": "code",
   "execution_count": null,
   "metadata": {},
   "outputs": [],
   "source": [
    "#Entrenamiento del Algoritmo Regresión Logistica, con \"cross validation\"\n",
    "model2 = LogisticRegressionCV(n_jobs=-1, cv=10, max_iter=500, scoring = 'f1', multi_class='ovr')\n",
    "model2.fit(XLarge_train, yLarge_train)"
   ]
  },
  {
   "cell_type": "code",
   "execution_count": null,
   "metadata": {},
   "outputs": [],
   "source": [
    "# ROC AUC esta mejor \n",
    "metrics.roc_auc_score(yLarge_test,model2.predict_proba(XLarge_test)[:,1])"
   ]
  },
  {
   "cell_type": "markdown",
   "metadata": {},
   "source": [
    "<H3>XGBoost</H3>"
   ]
  },
  {
   "cell_type": "code",
   "execution_count": null,
   "metadata": {},
   "outputs": [],
   "source": [
    "#XGBoost\n",
    "#Splitting the Dataset for XGBoost, where we can use another structure and retain features names\n",
    "dfSimpleX_train, dfSimpleX_test, dfSimpley_train, dfSimpley_test = train_test_split(dataSimple[featuresSimple], dataSimple['noShow'],test_size=0.2, random_state=42)\n",
    "#print (dfSimpleX_train.shape)\n",
    "#dfSimpleX_train.head()\n",
    "\n",
    "model3 = XGBClassifier(nthread=8)\n",
    "model3.fit(dfSimpleX_train, dfSimpley_train)"
   ]
  },
  {
   "cell_type": "code",
   "execution_count": null,
   "metadata": {},
   "outputs": [],
   "source": [
    "# we have a decent AUC of 0.726 \n",
    "metrics.roc_auc_score(dfSimpley_test,model3.predict_proba(dfSimpleX_test)[:,1])"
   ]
  },
  {
   "cell_type": "markdown",
   "metadata": {},
   "source": [
    "<H3>Comparación de los 3 modelos</H3>"
   ]
  },
  {
   "cell_type": "code",
   "execution_count": null,
   "metadata": {},
   "outputs": [],
   "source": [
    "y1_pred_prob=model1.predict_proba(XSimple_test)[:,1]\n",
    "y2_pred_prob=model2.predict_proba(XLarge_test)[:,1]\n",
    "y3_pred_prob=model3.predict_proba(dfSimpleX_test)[:,1]\n",
    "\n",
    "# Generate ROC curve values: fpr, tpr, thresholds\n",
    "fpr1, tpr1, thresholds1 = roc_curve(ySimple_test, y1_pred_prob)\n",
    "fpr2, tpr2, thresholds2 = roc_curve(yLarge_test, y2_pred_prob)\n",
    "fpr3, tpr3, thresholds3 = roc_curve(dfSimpley_test, y3_pred_prob)\n",
    "\n",
    "# Plot ROC curve\n",
    "plt.plot([0, 1], [0, 1], 'k--')\n",
    "plt.plot(fpr1, tpr1,\"C1\",label=\"Lg11\")\n",
    "plt.plot(fpr2, tpr2,\"C2\",label=\"Lg110\")\n",
    "plt.plot(fpr3, tpr3,\"C3\",label=\"XGBoost\")\n",
    "\n",
    "plt.xlabel('False Positive Rate')\n",
    "plt.ylabel('True Positive Rate')\n",
    "plt.title('ROC Curve- LogRegs vs XGBoost')\n",
    "plt.legend()\n",
    "plt.show()"
   ]
  },
  {
   "cell_type": "markdown",
   "metadata": {},
   "source": [
    "<H3>Detalles de XGBoost</H3>"
   ]
  },
  {
   "cell_type": "code",
   "execution_count": null,
   "metadata": {
    "scrolled": false
   },
   "outputs": [],
   "source": [
    "import xgboost\n",
    "xgboost.plot_importance(model3, max_num_features=20)"
   ]
  },
  {
   "cell_type": "markdown",
   "metadata": {},
   "source": [
    "<H3>Pruebas Varias</H3>"
   ]
  },
  {
   "cell_type": "code",
   "execution_count": null,
   "metadata": {},
   "outputs": [],
   "source": [
    "sc._conf.getAll()"
   ]
  },
  {
   "cell_type": "markdown",
   "metadata": {},
   "source": [
    "sc.stop()\n",
    "conf = SparkConf().setAppName(\"App\")\n",
    "conf = (conf.setMaster('local[*]')\n",
    "        .set('spark.executor.memory', '3G')\n",
    "        .set('spark.driver.memory', '3G')\n",
    "        .set('spark.driver.maxResultSize', '3G'))\n",
    "sc = SparkContext(conf=conf)"
   ]
  }
 ],
 "metadata": {
  "kernelspec": {
   "display_name": "Python 3",
   "language": "python",
   "name": "python3"
  },
  "language_info": {
   "codemirror_mode": {
    "name": "ipython",
    "version": 3
   },
   "file_extension": ".py",
   "mimetype": "text/x-python",
   "name": "python",
   "nbconvert_exporter": "python",
   "pygments_lexer": "ipython3",
   "version": "3.6.9"
  }
 },
 "nbformat": 4,
 "nbformat_minor": 4
}
